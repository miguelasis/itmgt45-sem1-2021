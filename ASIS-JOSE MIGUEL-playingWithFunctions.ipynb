{
 "cells": [
  {
   "cell_type": "markdown",
   "id": "b311cd50-76d0-4eff-aacf-c954d7783de3",
   "metadata": {},
   "source": [
    "# Assignment: Playing with Functions\n",
    "\n",
    "## Instructions\n",
    "\n",
    "This is the template file for the assignment of Module 4 called \"Playing with Functions.\" Please carefully follow the instructions below.\n",
    "\n",
    "1. Rename this file by filling out your surname and first name in the file name. For example, if your surname is Ilagan and if your first name is Joben, then rename the file to ILAGAN-JOBEN-playingWithFunctions.ipynb.\n",
    "2. Fill out the markdown cell just above `Problem 1` with your student details as indicated.  \n",
    "3. To submit this file, first, upload your file to your GitHub repository and, second, submit your repository link to the assignment on Canvas.\n"
   ]
  },
  {
   "cell_type": "markdown",
   "id": "72180ce5-a105-465d-930f-b624c6c71238",
   "metadata": {},
   "source": [
    "## Student Details\n",
    "\n",
    "ID Number: 200444  \n",
    "Surname: Asis  \n",
    "Year and Course: 2 BS ITE  "
   ]
  },
  {
   "cell_type": "markdown",
   "id": "7843e78a-c77f-4662-900c-714330ada001",
   "metadata": {},
   "source": [
    "## Problem 1\n",
    "## Factorial (1 point)\n",
    "\n",
    "The **factorial** of a number is the product of that number and all the numbers below it. For example, 5 factorial (denoted 5! in math) is 5 * 4 * 3 * 2 * 1, which is 120.  \n",
    "\n",
    "**Write a function called `problem_1` that takes one positional argument `number`. The function should return  the factorial of `number` as an integer.**\n",
    "\n",
    "Example input/output:  \n",
    "`problem_1(5)` => `120`  \n",
    "`problem_1(10)` => `3628800`  "
   ]
  },
  {
   "cell_type": "code",
   "execution_count": 16,
   "id": "5f7b6f87",
   "metadata": {},
   "outputs": [
    {
     "name": "stdout",
     "output_type": "stream",
     "text": [
      "Enter your number (has to be a positive integer): 7\n",
      "problem_1( 7 ) => 5040\n"
     ]
    }
   ],
   "source": [
    "def problem_1(number):\n",
    "    factorial = 1\n",
    "    \n",
    "    if number == 0 or number == 1:\n",
    "        return 1\n",
    "    \n",
    "    for i in range(1, number + 1):\n",
    "        factorial *= i\n",
    "        \n",
    "    return factorial\n",
    "\n",
    "try:\n",
    "    number = int(input(\"Enter your number (has to be a positive integer): \"))\n",
    "except:\n",
    "    print(\"Please enter a positive integer.\")\n",
    "    \n",
    "result = problem_1(number)\n",
    "\n",
    "print(\"problem_1(\",number,\")\",\"=>\",result)"
   ]
  },
  {
   "cell_type": "markdown",
   "id": "b95d08a5-e4f9-4bb4-8e18-e09e629df96b",
   "metadata": {},
   "source": [
    "## Problem 2\n",
    "## Guessing Game (2 points) \n",
    "\n",
    "Recall that we use `input()` to ask for user input.  \n",
    "\n",
    "**Write a function called `problem_2` that takes one positional argument `passphrase`. The function should ask the user to enter the passphrase with `input()`. If the user enters the correct passphrase, the function should return the integer `1`. If the user enters the wrong passphrase, the function should keep asking them for the passphrase. If the user gets the passphrase wrong 3 times, the function should return the integer `0`.**  \n",
    "\n",
    "Example input/output:  \n",
    "\n",
    "Function input:  \n",
    "`problem_2(\"chums\")`  \n",
    "Simulated user input:  \n",
    "`joben`  \n",
    "`chums`  \n",
    "Output:  \n",
    "`1`  \n",
    "\n",
    "Function input:  \n",
    "`problem_2(\"annika\")`  \n",
    "Simulated user input:  \n",
    "`joe`  \n",
    "`earl`  \n",
    "`niks`  \n",
    "Output:  \n",
    "`0`"
   ]
  },
  {
   "cell_type": "code",
   "execution_count": 17,
   "id": "c3ca5aaf",
   "metadata": {},
   "outputs": [
    {
     "name": "stdout",
     "output_type": "stream",
     "text": [
      "Input password: you only\n",
      "Try another one: live once\n",
      "Try another one: YOLO\n"
     ]
    },
    {
     "data": {
      "text/plain": [
       "'1'"
      ]
     },
     "execution_count": 17,
     "metadata": {},
     "output_type": "execute_result"
    }
   ],
   "source": [
    "def problem_2(passphrase):\n",
    "    counter = 1\n",
    "    guess = input(\"Input password: \")\n",
    "    \n",
    "    if guess == passphrase:\n",
    "        return(\"1\")\n",
    "    \n",
    "    while guess != passphrase:\n",
    "        guess_2 = input(\"Try another one: \")\n",
    "        if guess_2 == passphrase:\n",
    "            return(\"1\")\n",
    "        else:\n",
    "            counter += 1\n",
    "            if counter == 3:\n",
    "                return(\"0\")\n",
    "problem_2(\"YOLO\")"
   ]
  },
  {
   "cell_type": "markdown",
   "id": "9aadf6fa",
   "metadata": {},
   "source": [
    "## Problem 3\n",
    "## Temperature Converter (3 points)\n",
    "\n",
    "A common beginner's exercise is to write a function that can convert a temperature value from one format, such as Fahrenheit, to another, such as Celsius.  \n",
    "\n",
    "In this problem, extend this idea to convert temperatures freely to and from any of the following formats: Celsius, Fahrenheit, and Kelvin.  \n",
    "\n",
    "**Write a function called `problem_3` that takes three positional arguments: (float) `temp`, (string) `original_format`, (string) `new_format`. The function should convert `temp`, which is represented in `original_format`, to its equivalent value in the `new_format.`**  \n",
    "\n",
    "Example input/output:  \n",
    "`problem_3(0.0, \"Celsius\", \"Fahrenheit\")` => `32.0`  \n",
    "`problem_3(500.0, \"Kelvin\", \"Fahrenheit\")` => `440.33`  \n",
    "`problem_3(273.0, \"Kelvin\", \"Celsius\")` => `0.0`  \n",
    "\n",
    "For your convenience:  \n",
    "1. The accuracy of your float outputs will only be evaluated to within 4 decimal places. "
   ]
  },
  {
   "cell_type": "code",
   "execution_count": 18,
   "id": "652183db-4f42-40cf-b8cf-f0120914b86b",
   "metadata": {},
   "outputs": [
    {
     "name": "stdout",
     "output_type": "stream",
     "text": [
      "Temp: 30\n",
      "Enter current format (first capitalized letter): F\n",
      "Enter desired format (first capitalized letter): K\n",
      "problem_3( 30.0 | F | K ) --> 272.0388888888889\n"
     ]
    }
   ],
   "source": [
    "def problem_3(temp, original_format, new_format):\n",
    "    \n",
    "#used one letter for convenience\n",
    "    \n",
    "    #C: C-F-K\n",
    "    if original_format == \"C\" and new_format == \"C\":\n",
    "        print(\"it's the same bRoO\")\n",
    "        return(temp)\n",
    "    elif original_format == \"C\" and new_format == \"F\":\n",
    "         return((temp*9/5)+32)\n",
    "    elif original_format == \"C\" and new_format == \"K\":\n",
    "        return((temp + 273.15))\n",
    "    \n",
    "    #F: F-C-K\n",
    "    elif original_format == \"F\" and new_format == \"F\":\n",
    "        print(\"it's the same bRoO\")\n",
    "        return(temp)\n",
    "    elif original_format == \"F\" and new_format == \"C\":\n",
    "        return((temp - 32) * 5/9)\n",
    "    elif original_format == \"F\" and new_format == \"K\":\n",
    "        return((temp - 32) * 5/9 + 273.15)\n",
    "    \n",
    "    #K: K-F-C\n",
    "    elif original_format == \"K\" and new_format == \"K\":\n",
    "        print(\"it's the same bRoO\")\n",
    "        return(temp)\n",
    "    elif original_format == \"K\" and new_format == \"F\":\n",
    "        return((temp - 273.15) * 9/5 + 32)\n",
    "    elif original_format == \"K\" and new_format == \"C\":\n",
    "        return(temp - 273.15)\n",
    "    \n",
    "#ask temperature   \n",
    "temp = float(input(\"Temp: \"))\n",
    "\n",
    "#ask current format\n",
    "original_format = str(input(\"Enter current format (first capitalized letter): \"))\n",
    "\n",
    "#ask what format to convert to\n",
    "new_format = str(input(\"Enter desired format (first capitalized letter): \"))\n",
    "\n",
    "#display\n",
    "result = problem_3(temp, original_format, new_format)\n",
    "print(\"problem_3(\", temp, \"|\", original_format, \"|\", new_format,\")\", \"-->\", result)"
   ]
  },
  {
   "cell_type": "markdown",
   "id": "f12ed1ad-7738-4f4a-aa35-8f7ee87ea395",
   "metadata": {},
   "source": [
    "#### Problem 4\n",
    "## Exact Change (4 points)\n",
    "\n",
    "Part of a cashier's job is to give exact change to customers. It can be difficult to mentally tally how many coins of each type (i.e., 1 peso, 25 centavos, 10 centavos, etc.) to give to a customer.  \n",
    "\n",
    "**Write a function called `problem_4` that takes 1 positional argument `amount` in centavos. The function should return a string that describes the appropriate amounts of each type of coin to give to the customer. The string should be formatted as follows:**  \n",
    "\n",
    "`\"1P:{num}/25C:{num}/10C:{num}/5C:{num}/1C:{num}\"`  \n",
    "\n",
    "**Use the fewest number of total coins possible.**  \n",
    "\n",
    "Example input/output:  \n",
    "`problem_4(105)` => `\"1P:1/25C:0/10C:0/5C:1/1C:0\"`  \n",
    "`problem_4(69)` => `\"1P:0/25C:2/10C:1/5C:1/1C:4\"`  "
   ]
  },
  {
   "cell_type": "code",
   "execution_count": 19,
   "id": "ab1c1a52",
   "metadata": {},
   "outputs": [],
   "source": [
    "#USD\n",
    "#current = user input\n",
    "#dollars = current / 100\n",
    "#current = current % 100\n",
    "#quarters = current / 25\n",
    "#current = current % 25\n",
    "\n",
    "def problem_4(amount):\n",
    "\n",
    "    piso = amount // 100\n",
    "    twentyfive = (amount % 100) // 25\n",
    "    ten = amount % 25 // 10\n",
    "    five = amount % 25 % 10 // 5 \n",
    "    centavo = amount % 5 \n",
    "    \n",
    "    return(\"1P:\" + str(piso) + \" | \" \"25C:\" + str(twentyfive) + \" | \" \"10C:\" + str(ten) + \" | \" \"5C:\" + str(five) + \" | \" \"1C:\" + str(centavo))"
   ]
  },
  {
   "cell_type": "code",
   "execution_count": 20,
   "id": "26b5d070",
   "metadata": {},
   "outputs": [
    {
     "data": {
      "text/plain": [
       "'1P:6 | 25C:2 | 10C:1 | 5C:1 | 1C:1'"
      ]
     },
     "execution_count": 20,
     "metadata": {},
     "output_type": "execute_result"
    }
   ],
   "source": [
    "problem_4(666)"
   ]
  },
  {
   "cell_type": "markdown",
   "id": "a45e4549-fb1a-4a4e-aceb-1eb46ceaa2c2",
   "metadata": {},
   "source": [
    "## Problem 5\n",
    "## Invert Capitalization (3 points)  \n",
    "\n",
    "**Write a function called `problem_5` that takes 1 positional argument (string) `message`. The function should return a string whose uppercase letters are now lowercase and whose lowercase letters are now uppercase. Spaces should be left alone.**  \n",
    "\n",
    "Example input/output:  \n",
    "`problem_5(\"Test Me\")` => `\"tEST mE\"`  \n",
    "`problem_5(\"asSiGnmENt\")` => `\"ASsIgNMenT\"`  \n",
    "\n",
    "For your convenience:  \n",
    "1. The message will only ever consist of spaces, lowercase letters, and uppercase letters.  \n",
    "\n",
    "Hint: Research on `ord()` and `chr()`.  "
   ]
  },
  {
   "cell_type": "code",
   "execution_count": 28,
   "id": "df8d9597-cca1-44ef-b1c8-a0050d512d45",
   "metadata": {
    "scrolled": true
   },
   "outputs": [
    {
     "name": "stdout",
     "output_type": "stream",
     "text": [
      "Shes oNLY sixTEEN\n"
     ]
    },
    {
     "data": {
      "text/plain": [
       "'sHES\\x00Only\\x00SIXteen'"
      ]
     },
     "execution_count": 28,
     "metadata": {},
     "output_type": "execute_result"
    }
   ],
   "source": [
    "def problem_5(message):\n",
    "    message = input()\n",
    "    convert = \"\"\n",
    "    \n",
    "    for i in message:\n",
    "        if ord(i) >= 65 and ord(i) <= 90:\n",
    "            i = chr(ord(i) + 32)\n",
    "        else:\n",
    "            i = chr(ord(i) - 32)\n",
    "        convert += i\n",
    "            \n",
    "    joint_msg = \"\".join(str(convert))\n",
    "    return(joint_msg)\n",
    "\n",
    "problem_5(message)"
   ]
  },
  {
   "cell_type": "code",
   "execution_count": null,
   "id": "56233fc8",
   "metadata": {},
   "outputs": [],
   "source": []
  }
 ],
 "metadata": {
  "kernelspec": {
   "display_name": "Python 3",
   "language": "python",
   "name": "python3"
  },
  "language_info": {
   "codemirror_mode": {
    "name": "ipython",
    "version": 3
   },
   "file_extension": ".py",
   "mimetype": "text/x-python",
   "name": "python",
   "nbconvert_exporter": "python",
   "pygments_lexer": "ipython3",
   "version": "3.8.8"
  }
 },
 "nbformat": 4,
 "nbformat_minor": 5
}
