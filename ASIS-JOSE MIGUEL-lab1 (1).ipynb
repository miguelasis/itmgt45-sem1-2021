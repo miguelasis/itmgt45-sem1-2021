{
 "cells": [
  {
   "cell_type": "markdown",
   "id": "4c0c962f-7a6b-40b4-8b48-b5546612df35",
   "metadata": {},
   "source": [
    "# Assignment: Lab 1\n",
    "\n",
    "## Instructions\n",
    "\n",
    "This is the template file for the assignment of Module 4 called \"Lab 1.\" Please carefully follow the instructions below.\n",
    "\n",
    "1. Rename this file by filling out your surname and first name in the file name. For example, if your surname is Ilagan and if your first name is Joben, then rename the file to ILAGAN-JOBEN-lab1.ipynb.\n",
    "2. Fill out the markdown cell just above `Problem 1` with your student details as indicated.  \n",
    "3. To submit this file, first, upload your file to your GitHub repository and, second, submit your repository link to the assignment on Canvas."
   ]
  },
  {
   "cell_type": "markdown",
   "id": "bfe86ae2-822c-4c45-bc31-f1931327f36f",
   "metadata": {},
   "source": [
    "## Student Details\n",
    "\n",
    "ID Number: 200444 \n",
    "Surname: Asis \n",
    "Year and Course: 2 BS ITE"
   ]
  },
  {
   "cell_type": "markdown",
   "id": "831b75c5-94cd-48ee-818e-b2cc2bcd2df9",
   "metadata": {},
   "source": [
    "## Problem 1 (3 points)\n",
    "\n",
    "### Currency Converter  \n",
    "\n",
    "Overall prompt: **Write a function called `dollars_to_pesos` that accepts an amount in US dollars and that RETURNS a string that indicates the equivalent amount in Philippine pesos.**  \n",
    "\n",
    "The program must follow these specifications: \n",
    "1. It is very important that your entire program is contained within a function. It is also very important that your output value is **returned** and not merely printed. This is to make sure that the function, when called, actually evaluates to a value instead of merely printing the calculated value out to the terminal. This is because the function, conceptually, is intended to be a utility function for further conversions, so it needs to evaluate to a value on its own.\n",
    "2. The function must accept the input through one parameter called `dollars`.\n",
    "3. The function must return a string that is formatted as follows: `{dollars} US dollar(s) = {pesos} Philippine pesos.`, where `dollars` is the amount of dollars given as input and where `pesos` is the equivalent amount of pesos for the given dollars. \n",
    "4. For simplicity, use the conversion rate \\$1 = PHP 50.  \n",
    "\n",
    "#### Sample Input and Output  \n",
    "\n",
    "Sample Input:  \n",
    "`Enter the amount in US Dollars: 1`  \n",
    "Sample Output:  \n",
    "`1 US dollar(s) = 50 Philippine Pesos.`  "
   ]
  },
  {
   "cell_type": "code",
   "execution_count": 7,
   "id": "d1c57183-f60b-44c4-be5d-646a211d4d00",
   "metadata": {},
   "outputs": [],
   "source": [
    "def pesos_in_dollars(dollars):\n",
    "    pesos = dollars * 50\n",
    "    return pesos"
   ]
  },
  {
   "cell_type": "code",
   "execution_count": 9,
   "id": "6b5f064d",
   "metadata": {},
   "outputs": [
    {
     "name": "stdout",
     "output_type": "stream",
     "text": [
      "Enter your amount in dollars: 499\n",
      "499.0 US dollar(s) = 24950.0 Philippine Pesos\n"
     ]
    }
   ],
   "source": [
    "# ask for amount in USD\n",
    "dollars = abs(float(input(\"Enter your amount in dollars: \")))\n",
    "\n",
    "# convert to Pesos\n",
    "pesos = pesos_in_dollars(dollars)\n",
    "\n",
    "# display converted amount\n",
    "print(dollars, \"US dollar(s) =\", pesos, \"Philippine Pesos\")"
   ]
  },
  {
   "cell_type": "markdown",
   "id": "0c63142e-3643-4989-9357-2911bae45f69",
   "metadata": {},
   "source": [
    "## Problem 2 (3) \n",
    "### Numerical Operations  \n",
    "\n",
    "Overall prompt: **Write a function called `perform_operations` that accepts two parameters, `x` and `y`, which are integers. The function should PRINT the results of performing operations on those two numbers.**  \n",
    "\n",
    "The program must follow these specifications:\n",
    "1. It is very important that the function **prints** the output this time.  \n",
    "2. The function must accept two parameters, `x` and `y`, which are both integers.\n",
    "3. The function should print the results of *addition*, *subtraction*, *multiplication*, *division without the remainder*, and finally the *remainder upon division* of `x` and `y` on separate lines.\n",
    "\n",
    "#### Sample Input and Output \n",
    "\n",
    "Sample Input:  \n",
    "`55`  \n",
    "`3`  \n",
    "Sample Output:  \n",
    "`58`  \n",
    "`52`  \n",
    "`165`  \n",
    "`18`  \n",
    "`1`  "
   ]
  },
  {
   "cell_type": "code",
   "execution_count": 10,
   "id": "df469951",
   "metadata": {},
   "outputs": [],
   "source": [
    "def perform_operations(x, y):\n",
    "    print (x + y)\n",
    "    print (x - y)\n",
    "    print (x * y)\n",
    "    print (x // y)\n",
    "    print (x % y)"
   ]
  },
  {
   "cell_type": "code",
   "execution_count": 11,
   "id": "d4fde901",
   "metadata": {},
   "outputs": [
    {
     "name": "stdout",
     "output_type": "stream",
     "text": [
      "Enter your first number: 100\n",
      "Enter your second number: 10\n",
      "110\n",
      "90\n",
      "1000\n",
      "10\n",
      "0\n"
     ]
    }
   ],
   "source": [
    "# ask for first number\n",
    "x = int(input(\"Enter your first number: \"))\n",
    "\n",
    "# ask for second number\n",
    "y = int(input(\"Enter your second number: \"))\n",
    "\n",
    "# perform operations\n",
    "perform_operations(x, y)"
   ]
  },
  {
   "cell_type": "markdown",
   "id": "24da35c8-9b83-4394-88bb-f35e60b2c86f",
   "metadata": {},
   "source": [
    "## Problem 3 (4) \n",
    "### BMI Calculator  \n",
    "\n",
    "Overall prompt: **Write a function called `bmi` that computes for and _returns_ your Body Mass Index (BMI). The formula for BMI is as follows:**  \n",
    "\n",
    "`BMI = (kg) / (m^2)`  \n",
    "\n",
    "In the formula, `kg` is a person's weight in kilograms, and `m` is the person's height in meters.  \n",
    "\n",
    "The program must follow these specifications:  \n",
    "1. The function `bmi` must accept two parameters `kg` and `cm`, where `kg` is a person's weight in kilograms and `cm` is the person's height in _centimeters_.  \n",
    "2. The function must return a _float_. This float will be checked for computational accuracy within 4 decimal places.  \n",
    "\n",
    "#### Sample Input and Output\n",
    "\n",
    "Sample Input:  \n",
    "`kg = 65, cm = 180`  \n",
    "Sample Output:  \n",
    "`20.061728395061728`  "
   ]
  },
  {
   "cell_type": "code",
   "execution_count": 12,
   "id": "bda270a3",
   "metadata": {},
   "outputs": [],
   "source": [
    "def compute_bmi(kg, cm):\n",
    "    bmi = (kg) / (((cm / 100)** 2))\n",
    "    return bmi"
   ]
  },
  {
   "cell_type": "code",
   "execution_count": 13,
   "id": "b41f9e22",
   "metadata": {},
   "outputs": [
    {
     "name": "stdout",
     "output_type": "stream",
     "text": [
      "Enter your wieght in kilogrmas: 75\n",
      "Enter your height in centimeters: 172\n",
      "25.351541373715524\n"
     ]
    }
   ],
   "source": [
    "# ask for first number\n",
    "kg = float(input(\"Enter your wieght in kilogrmas: \"))\n",
    "\n",
    "# ask for second number\n",
    "cm = float(input(\"Enter your height in centimeters: \"))\n",
    "\n",
    "# perform operations\n",
    "bmi = float(compute_bmi(kg, cm))\n",
    "\n",
    "# display converted amount\n",
    "print(bmi)"
   ]
  },
  {
   "cell_type": "code",
   "execution_count": null,
   "id": "2822591b",
   "metadata": {},
   "outputs": [],
   "source": []
  }
 ],
 "metadata": {
  "kernelspec": {
   "display_name": "Python 3",
   "language": "python",
   "name": "python3"
  },
  "language_info": {
   "codemirror_mode": {
    "name": "ipython",
    "version": 3
   },
   "file_extension": ".py",
   "mimetype": "text/x-python",
   "name": "python",
   "nbconvert_exporter": "python",
   "pygments_lexer": "ipython3",
   "version": "3.8.8"
  }
 },
 "nbformat": 4,
 "nbformat_minor": 5
}
